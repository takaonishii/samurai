{
 "cells": [
  {
   "cell_type": "code",
   "execution_count": 4,
   "metadata": {},
   "outputs": [
    {
     "name": "stdout",
     "output_type": "stream",
     "text": [
      "num is between 1 and 3\n"
     ]
    }
   ],
   "source": [
    "num = 2\n",
    "\n",
    "if num > 1 and num < 3 :\n",
    "    print(\"num is between 1 and 3\")\n",
    "else:\n",
    "    print(\"num is not between 1 and 3\")\n"
   ]
  },
  {
   "cell_type": "markdown",
   "metadata": {},
   "source": [
    "if文を用いて、以下の条件分岐をするコードを記述してください。値はprint関数で出力してください。\n",
    "\n",
    "- 変数varが、3の倍数の場合は「Fizz」を出力\n",
    "- 変数varが、5の倍数の場合は「Buzz」を出力\n",
    "- 変数varが、3の倍数と5の倍数の両方に該当する場合は「FizzBuzz」を出力\n",
    "- 上記のどの場合にも該当しない場合は、変数varの値を出力\n",
    "\n",
    "\n",
    "ただし、変数varは正の整数とします。"
   ]
  },
  {
   "cell_type": "markdown",
   "metadata": {},
   "source": [
    "## for loop"
   ]
  },
  {
   "cell_type": "code",
   "execution_count": 15,
   "metadata": {},
   "outputs": [
    {
     "name": "stdout",
     "output_type": "stream",
     "text": [
      "1\n",
      "2\n",
      "3\n",
      "4\n",
      "5\n"
     ]
    }
   ],
   "source": [
    "array = [1, 2, 3, 4, 5]\n",
    "\n",
    "for value in array:\n",
    "    print(value)\n",
    "\n",
    "\n",
    "\n",
    "# for i in range(1, 10, 2):\n",
    "#     print(i)\n"
   ]
  },
  {
   "cell_type": "code",
   "execution_count": 18,
   "metadata": {},
   "outputs": [
    {
     "data": {
      "text/plain": [
       "9"
      ]
     },
     "execution_count": 18,
     "metadata": {},
     "output_type": "execute_result"
    }
   ],
   "source": [
    "array = [\"水\",\"金\",\"地\",\"火\",\"木\",\"土\",\"天\",\"海\",\"冥\"]\n",
    "\n",
    "len(array)"
   ]
  },
  {
   "cell_type": "code",
   "execution_count": 27,
   "metadata": {},
   "outputs": [
    {
     "name": "stdout",
     "output_type": "stream",
     "text": [
      "i=0 水\n",
      "i=1 金\n",
      "i=2 地\n",
      "i=3 火\n",
      "i=4 木\n",
      "i=5 土\n",
      "i=6 天\n",
      "i=7 海\n",
      "i=8 冥\n"
     ]
    },
    {
     "data": {
      "text/plain": [
       "True"
      ]
     },
     "execution_count": 27,
     "metadata": {},
     "output_type": "execute_result"
    }
   ],
   "source": [
    "i = 0\n",
    "while i < len(array):\n",
    "    print(\"i=\" + str(i) + \" \" + array[i])\n",
    "    i = i + 1\n",
    " \n",
    "9 <= 9"
   ]
  },
  {
   "cell_type": "code",
   "execution_count": 17,
   "metadata": {},
   "outputs": [
    {
     "name": "stdout",
     "output_type": "stream",
     "text": [
      "水\n",
      "金\n",
      "地\n",
      "火\n",
      "木\n",
      "土\n",
      "天\n",
      "海\n",
      "冥\n",
      "水\n",
      "金\n",
      "地\n",
      "火\n",
      "木\n",
      "土\n",
      "天\n",
      "海\n",
      "冥\n"
     ]
    }
   ],
   "source": [
    "\n",
    "# for value in array:\n",
    "#     print(value)\n",
    "\n",
    "for i in range(len(array)):\n",
    "    print(array[i])\n"
   ]
  },
  {
   "cell_type": "code",
   "execution_count": 9,
   "metadata": {},
   "outputs": [
    {
     "name": "stdout",
     "output_type": "stream",
     "text": [
      "var is not divisible by 3, 5, or 7\n"
     ]
    }
   ],
   "source": [
    "var = 11\n",
    "\n",
    "if var % 3 == 0:\n",
    "    print(\"var is divisible by 3\")\n",
    "elif var % 5 == 0:\n",
    "    print(\"var is divisible by 5\")\n",
    "elif var % 7 == 0:\n",
    "    print(\"var is divisible by 7\")\n",
    "else:\n",
    "    print(\"var is not divisible by 3, 5, or 7\")\n",
    "\n",
    "\n",
    "var = 4"
   ]
  },
  {
   "cell_type": "markdown",
   "metadata": {},
   "source": [
    "for 文の学習"
   ]
  },
  {
   "cell_type": "code",
   "execution_count": 31,
   "metadata": {},
   "outputs": [
    {
     "name": "stdout",
     "output_type": "stream",
     "text": [
      "水\n",
      "金\n",
      "地\n",
      "火\n",
      "木\n",
      "土\n",
      "天\n",
      "海\n",
      "冥\n",
      "a\n"
     ]
    }
   ],
   "source": [
    "array = [\"水\",\"金\",\"地\",\"火\",\"木\",\"土\",\"天\",\"海\",\"冥\", \"a\"]\n",
    "\n",
    "for arr in array:\n",
    "    print(arr)\n",
    "\n",
    "# for i in range(0, 9, 1):\n",
    "#     print(array[i])\n",
    "\n",
    "\n",
    "# array[1]\n",
    "# range(5)"
   ]
  },
  {
   "cell_type": "code",
   "execution_count": 4,
   "metadata": {},
   "outputs": [
    {
     "data": {
      "text/plain": [
       "2"
      ]
     },
     "execution_count": 4,
     "metadata": {},
     "output_type": "execute_result"
    }
   ],
   "source": [
    "holidays = [\"正月\",\"成人の日\",\"建国記念日\",\"天皇誕生日\",\"春分の日\",\"昭和の日\",\"憲法記念日\",\"みどりの日\",\"こどもの日\",\"海の日\",\"山の日\",\"敬老の日\",\"秋分の日\",\"スポーツの日\",\"文化の日\",\"勤労感謝の日\"]\n",
    "# for holiday in holidays:\n",
    "#     print(holiday)\n",
    "\n",
    "i = 0\n",
    "while i < len(holidays):\n",
    "    # print(holidays[i])\n",
    "    i += 1\n",
    "\n",
    "i = 2\n",
    "\n",
    "i"
   ]
  },
  {
   "cell_type": "markdown",
   "metadata": {},
   "source": [
    "### クラス"
   ]
  },
  {
   "cell_type": "code",
   "execution_count": 37,
   "metadata": {},
   "outputs": [
    {
     "data": {
      "text/plain": [
       "200"
      ]
     },
     "execution_count": 37,
     "metadata": {},
     "output_type": "execute_result"
    }
   ],
   "source": [
    "class Product:\n",
    "    def __init__(self, name, price):\n",
    "        self.name = name\n",
    "        self.price = price\n",
    "\n",
    "    def get_name(self):\n",
    "        return self.name\n",
    "\n",
    "    def get_price(self):\n",
    "        return self.price\n",
    "\n",
    "    def set_price(self, price):\n",
    "        self.price = price\n",
    "\n",
    "    def get_name_and_price():\n",
    "        return \"200\"\n",
    "        # return get_name() + \" \" + str(self.get_price())\n",
    "\n",
    "# Product.get_name_and_price()\n",
    "# Product.get_name(\"name\")\n",
    "\n",
    "product = Product(\"apple\", 100)\n",
    "product.set_price(200)\n",
    "\n",
    "product.get_price()"
   ]
  },
  {
   "cell_type": "code",
   "execution_count": 8,
   "metadata": {},
   "outputs": [
    {
     "name": "stdout",
     "output_type": "stream",
     "text": [
      "value1= 2\n"
     ]
    },
    {
     "data": {
      "text/plain": [
       "112"
      ]
     },
     "execution_count": 8,
     "metadata": {},
     "output_type": "execute_result"
    }
   ],
   "source": [
    "def total_price(value, tax, value1=1):\n",
    "    total = value + tax + value1\n",
    "\n",
    "    print(f\"value1={value}{tax}円\", value1)\n",
    "\n",
    "\n",
    "\n",
    "\n",
    "    return total\n",
    "\n",
    "\n",
    "price = 100\n",
    "tax = 10\n",
    "value1 = 1\n",
    "total = total_price(price, tax)\n",
    "\n",
    "total"
   ]
  },
  {
   "cell_type": "code",
   "execution_count": null,
   "metadata": {},
   "outputs": [],
   "source": [
    "price = 100\n",
    "tax = 10\n",
    "\n",
    "price + price * tax / 100\n",
    "\n",
    "price * (1 + tax / 100)\n"
   ]
  },
  {
   "cell_type": "code",
   "execution_count": 17,
   "metadata": {},
   "outputs": [
    {
     "name": "stdout",
     "output_type": "stream",
     "text": [
      "名前：侍太郎\n",
      "年齢：36\n",
      "None\n"
     ]
    }
   ],
   "source": [
    "class User:\n",
    "    # コンストラクタを定義する\n",
    "    def __init__(self, name, age):\n",
    "        self.name   = name\n",
    "        self.age    = age\n",
    "\n",
    "    def print_info(self):\n",
    "        print(\"名前：\" + self.name)\n",
    "        print(\"年齢：\" + str(self.age))\n",
    "\n",
    "    def get_name(self):\n",
    "        return self.name\n",
    "\n",
    "\n",
    "# インスタンス化する\n",
    "user = User(\"侍太郎\", 36)\n",
    "print(user.print_info())"
   ]
  },
  {
   "cell_type": "code",
   "execution_count": null,
   "metadata": {},
   "outputs": [],
   "source": [
    "class Human:\n",
    " \n",
    "    def __init__(self, name, age):\n",
    "        self.name = name\n",
    "        self.age = age\n",
    " \n",
    "    def check_adult(self):\n",
    "        if self.age >= 20:\n",
    "            print(self.name + ' is adult.')\n",
    "        else:\n",
    "            print(self.name + ' is not adult.')\n",
    "\n",
    "# humans = [Human('ichiro', 19), Human('jiro', 20), Human('saburo', 21)]\n",
    "\n",
    "ichiro = Human('ichiro', 19)\n",
    "jiro   = Human('jiro', 20)\n",
    "saburo = Human('saburo', 21)\n",
    "\n",
    "humans = [ichiro, jiro, saburo]\n",
    "\n",
    "for human in humans:\n",
    "    human.check_adult()\n"
   ]
  }
 ],
 "metadata": {
  "kernelspec": {
   "display_name": "tennisle",
   "language": "python",
   "name": "python3"
  },
  "language_info": {
   "codemirror_mode": {
    "name": "ipython",
    "version": 3
   },
   "file_extension": ".py",
   "mimetype": "text/x-python",
   "name": "python",
   "nbconvert_exporter": "python",
   "pygments_lexer": "ipython3",
   "version": "3.9.16"
  }
 },
 "nbformat": 4,
 "nbformat_minor": 2
}
